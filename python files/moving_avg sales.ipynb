{
 "cells": [
  {
   "cell_type": "code",
   "execution_count": 3,
   "id": "bf328884",
   "metadata": {},
   "outputs": [],
   "source": [
    "import pandas as pd\n",
    "import matplotlib.pyplot as plt\n",
    "import seaborn as sns\n",
    "\n",
    "df = pd.read_csv('D:\\.MY PERSONAL DATA/programming Practice/Data Analytics/Elevvo Pathways Projects/Time Series Breakdown of Retail Sales/csv files/train.csv')"
   ]
  },
  {
   "cell_type": "code",
   "execution_count": null,
   "id": "451f9e20",
   "metadata": {},
   "outputs": [],
   "source": [
    "monthly_sales['Moving_Avg'] = monthly_sales['Weekly_Sales'].rolling(window=3, center=True).mean()\n",
    "\n",
    "plt.figure(figsize=(14, 7))\n",
    "sns.lineplot(data=monthly_sales, x='Month', y='Weekly_Sales', label='Monthly Sales')\n",
    "sns.lineplot(data=monthly_sales, x='Month', y='Moving_Avg', label='3-Month Moving Avg')\n",
    "plt.title('Monthly Sales with Moving Average')\n",
    "plt.xlabel('Month')\n",
    "plt.ylabel('Total Sales')\n",
    "plt.legend()\n",
    "plt.xticks(rotation=45)\n",
    "plt.tight_layout()\n",
    "plt.show()"
   ]
  }
 ],
 "metadata": {
  "kernelspec": {
   "display_name": "web_scraper",
   "language": "python",
   "name": "python3"
  },
  "language_info": {
   "codemirror_mode": {
    "name": "ipython",
    "version": 3
   },
   "file_extension": ".py",
   "mimetype": "text/x-python",
   "name": "python",
   "nbconvert_exporter": "python",
   "pygments_lexer": "ipython3",
   "version": "3.11.13"
  }
 },
 "nbformat": 4,
 "nbformat_minor": 5
}
